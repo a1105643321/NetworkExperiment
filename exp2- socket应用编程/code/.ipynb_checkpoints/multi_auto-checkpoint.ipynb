{
 "cells": [
  {
   "cell_type": "code",
   "execution_count": 5,
   "metadata": {},
   "outputs": [],
   "source": [
    "import os\n",
    "from mininet.net import Mininet\n",
    "from mininet.topo import Topo\n",
    "from mininet.link import TCLink\n",
    "from mininet.cli import CLI\n",
    "from mininet.term import makeTerm\n",
    "\n",
    "class MyTopo(Topo):\n",
    "    def build(self):\n",
    "        h1 = self.addHost('h1')\n",
    "        h2 = self.addHost('h2')\n",
    "        h3 = self.addHost('h3')\n",
    "        s1 = self.addSwitch('s1')\n",
    "\n",
    "        self.addLink(h1, s1)\n",
    "        self.addLink(h2, s1)\n",
    "        self.addLink(h3, s1)\n",
    "\n",
    "\n"
   ]
  },
  {
   "cell_type": "code",
   "execution_count": 6,
   "metadata": {},
   "outputs": [
    {
     "name": "stdout",
     "output_type": "stream",
     "text": [
      "0\n",
      "Compile Success!!!\n",
      "preparing for mininet...\n"
     ]
    }
   ],
   "source": [
    "print os.system('mn -c')\n",
    "\n",
    "#auto make\n",
    "os.system('make clean')\n",
    "if os.system('make') != 0: #if success,return 0\n",
    "    exit()\n",
    "print('Compile Success!!!')\n",
    "\n",
    "print('preparing for mininet...')\n",
    "topo = MyTopo()\n",
    "net = Mininet(topo = topo)\n",
    "\n"
   ]
  },
  {
   "cell_type": "code",
   "execution_count": 7,
   "metadata": {},
   "outputs": [
    {
     "name": "stdout",
     "output_type": "stream",
     "text": [
      "net start\n"
     ]
    }
   ],
   "source": [
    "print('net start')\n",
    "net.start()\n",
    "h1,h2,h3 = net.get('h1','h2','h3')"
   ]
  },
  {
   "cell_type": "code",
   "execution_count": 8,
   "metadata": {},
   "outputs": [
    {
     "ename": "TypeError",
     "evalue": "Error when calling the metaclass bases\n    function() argument 1 must be code, not str",
     "output_type": "error",
     "traceback": [
      "\u001b[0;31m---------------------------------------------------------------------------\u001b[0m",
      "\u001b[0;31mTypeError\u001b[0m                                 Traceback (most recent call last)",
      "\u001b[0;32m<ipython-input-8-6fb182ac6ba3>\u001b[0m in \u001b[0;36m<module>\u001b[0;34m()\u001b[0m\n\u001b[1;32m     12\u001b[0m         \u001b[0;32mprint\u001b[0m\u001b[0;34m(\u001b[0m\u001b[0mself\u001b[0m\u001b[0;34m.\u001b[0m\u001b[0mhost\u001b[0m\u001b[0;34m.\u001b[0m\u001b[0mname\u001b[0m\u001b[0;34m+\u001b[0m\u001b[0;34m' '\u001b[0m\u001b[0;34m+\u001b[0m\u001b[0mself\u001b[0m\u001b[0;34m.\u001b[0m\u001b[0mcmd\u001b[0m\u001b[0;34m)\u001b[0m\u001b[0;34m\u001b[0m\u001b[0m\n\u001b[1;32m     13\u001b[0m \u001b[0;34m\u001b[0m\u001b[0m\n\u001b[0;32m---> 14\u001b[0;31m \u001b[0;32mclass\u001b[0m \u001b[0mtimer_host\u001b[0m\u001b[0;34m(\u001b[0m\u001b[0mTimer\u001b[0m\u001b[0;34m)\u001b[0m\u001b[0;34m:\u001b[0m\u001b[0;34m\u001b[0m\u001b[0m\n\u001b[0m\u001b[1;32m     15\u001b[0m     \u001b[0;32mdef\u001b[0m \u001b[0m__init__\u001b[0m\u001b[0;34m(\u001b[0m\u001b[0mself\u001b[0m\u001b[0;34m,\u001b[0m\u001b[0mhost\u001b[0m\u001b[0;34m,\u001b[0m\u001b[0mcmd\u001b[0m\u001b[0;34m,\u001b[0m\u001b[0mtime\u001b[0m\u001b[0;34m)\u001b[0m\u001b[0;34m:\u001b[0m\u001b[0;34m\u001b[0m\u001b[0m\n\u001b[1;32m     16\u001b[0m         \u001b[0msuper\u001b[0m\u001b[0;34m(\u001b[0m\u001b[0mt_host\u001b[0m\u001b[0;34m,\u001b[0m \u001b[0mself\u001b[0m\u001b[0;34m)\u001b[0m\u001b[0;34m.\u001b[0m\u001b[0m__init__\u001b[0m\u001b[0;34m(\u001b[0m\u001b[0mtime\u001b[0m\u001b[0;34m)\u001b[0m\u001b[0;34m\u001b[0m\u001b[0m\n",
      "\u001b[0;31mTypeError\u001b[0m: Error when calling the metaclass bases\n    function() argument 1 must be code, not str"
     ]
    }
   ],
   "source": [
    "from threading import Thread,Timer\n",
    "import time\n",
    "\n",
    "class t_host(Thread):\n",
    "    def __init__(self,host,cmd):\n",
    "        super(t_host, self).__init__()\n",
    "        self.host = host\n",
    "        self.cmd = cmd\n",
    "    \n",
    "    def run(self):\n",
    "        self.host.cmd(self.cmd)\n",
    "        print(self.host.name+' '+self.cmd)\n",
    "\n",
    "'''\n",
    "class timer_host(Timer):\n",
    "    def __init__(self,host,cmd,time):\n",
    "        super(t_host, self).__init__(time)\n",
    "        self.host = host\n",
    "        self.cmd = cmd\n",
    "    \n",
    "    def run(self):\n",
    "        self.host.cmd(self.cmd)\n",
    "        print(self.host.name+' '+self.cmd)\n",
    "'''"
   ]
  },
  {
   "cell_type": "code",
   "execution_count": 5,
   "metadata": {},
   "outputs": [],
   "source": [
    "t1 = t_host(h1,'./master war_and_peace.txt > h1.txt')\n",
    "t2 = t_host(h2,'./worker > h2.txt')\n",
    "t3 = t_host(h3,'./worker > h3.txt')"
   ]
  },
  {
   "cell_type": "code",
   "execution_count": null,
   "metadata": {},
   "outputs": [
    {
     "name": "stdout",
     "output_type": "stream",
     "text": [
      "h2 ./worker > h2.txt\n",
      "h1 ./master war_and_peace.txt >> h1.txt\n"
     ]
    }
   ],
   "source": [
    "t2.start()\n",
    "t3.start()\n",
    "time.sleep(2)\n",
    "t1.start()\n",
    "\n",
    "t1.join(10)\n",
    "t2.join(10)\n",
    "t3.join(10)"
   ]
  },
  {
   "cell_type": "code",
   "execution_count": 4,
   "metadata": {},
   "outputs": [
    {
     "data": {
      "text/plain": [
       "0"
      ]
     },
     "execution_count": 4,
     "metadata": {},
     "output_type": "execute_result"
    }
   ],
   "source": [
    "os.system('cat h1.txt')\n",
    "os.system('cat h2.txt')\n",
    "os.system('cat h3.txt')"
   ]
  },
  {
   "cell_type": "code",
   "execution_count": null,
   "metadata": {},
   "outputs": [],
   "source": []
  }
 ],
 "metadata": {
  "kernelspec": {
   "display_name": "Python 2",
   "language": "python",
   "name": "python2"
  },
  "language_info": {
   "codemirror_mode": {
    "name": "ipython",
    "version": 2
   },
   "file_extension": ".py",
   "mimetype": "text/x-python",
   "name": "python",
   "nbconvert_exporter": "python",
   "pygments_lexer": "ipython2",
   "version": "2.7.12"
  }
 },
 "nbformat": 4,
 "nbformat_minor": 2
}
